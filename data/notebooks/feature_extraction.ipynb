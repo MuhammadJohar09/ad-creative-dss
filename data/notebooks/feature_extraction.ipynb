{
 "cells": [
  {
   "cell_type": "markdown",
   "id": "300d6788",
   "metadata": {},
   "source": [
    "# Step-by-Step Image Feature Extraction\n",
    "Run each cell below one by one to extract visual features from ad creatives."
   ]
  },
  {
   "cell_type": "code",
   "execution_count": null,
   "id": "8aa8031c",
   "metadata": {},
   "outputs": [],
   "source": [
    "# 📦 Import necessary libraries\n",
    "import cv2\n",
    "import os\n",
    "import pandas as pd\n",
    "import numpy as np\n",
    "from collections import Counter\n",
    "from matplotlib import pyplot as plt"
   ]
  },
  {
   "cell_type": "code",
   "execution_count": null,
   "id": "5ce5ebb3",
   "metadata": {},
   "outputs": [],
   "source": [
    "# 📁 Load the ad metadata CSV\n",
    "csv_path = \"ads_data.csv\"  # Make sure this file is in your working directory\n",
    "ads_df = pd.read_csv(csv_path)\n",
    "ads_df.head()"
   ]
  },
  {
   "cell_type": "code",
   "execution_count": null,
   "id": "7f5b2bb9",
   "metadata": {},
   "outputs": [],
   "source": [
    "# 🗂️ Update image paths if your images are inside a subfolder (like 'images/data/')\n",
    "ads_df[\"image_path\"] = ads_df[\"image_filename\"].apply(lambda x: os.path.join(\"images/data\", x))\n",
    "ads_df.head()"
   ]
  },
  {
   "cell_type": "markdown",
   "id": "00489d12",
   "metadata": {},
   "source": [
    "## 🧠 Feature Extraction Functions"
   ]
  },
  {
   "cell_type": "code",
   "execution_count": null,
   "id": "286def78",
   "metadata": {},
   "outputs": [],
   "source": [
    "def calculate_brightness(image):\n",
    "    hsv = cv2.cvtColor(image, cv2.COLOR_BGR2HSV)\n",
    "    return np.mean(hsv[:, :, 2])\n",
    "\n",
    "def calculate_contrast(image):\n",
    "    gray = cv2.cvtColor(image, cv2.COLOR_BGR2GRAY)\n",
    "    return gray.std()\n",
    "\n",
    "face_cascade = cv2.CascadeClassifier(cv2.data.haarcascades + 'haarcascade_frontalface_default.xml')\n",
    "def detect_faces(image):\n",
    "    gray = cv2.cvtColor(image, cv2.COLOR_BGR2GRAY)\n",
    "    faces = face_cascade.detectMultiScale(gray, 1.1, 4)\n",
    "    return len(faces) > 0\n",
    "\n",
    "def get_dominant_color(image, k=4):\n",
    "    data = image.reshape((-1, 3))\n",
    "    data = np.float32(data)\n",
    "    _, labels, centers = cv2.kmeans(data, k, None,\n",
    "                                    (cv2.TERM_CRITERIA_EPS + cv2.TERM_CRITERIA_MAX_ITER, 100, 1.0),\n",
    "                                    10, cv2.KMEANS_RANDOM_CENTERS)\n",
    "    counts = Counter(labels.flatten())\n",
    "    dominant = centers[np.argmax(list(counts.values()))]\n",
    "    return tuple(map(int, dominant))"
   ]
  },
  {
   "cell_type": "markdown",
   "id": "9c1cb73f",
   "metadata": {},
   "source": [
    "## 🧪 Extract Features in Batches (Modify range as needed)"
   ]
  },
  {
   "cell_type": "code",
   "execution_count": null,
   "id": "2a1570b4",
   "metadata": {},
   "outputs": [],
   "source": [
    "# Example: Run for first 20 images. Change range for batches.\n",
    "features = []\n",
    "for path in ads_df[\"image_path\"].iloc[0:20]:  # Adjust range\n",
    "    try:\n",
    "        image = cv2.imread(path)\n",
    "        if image is None:\n",
    "            raise ValueError(\"Image not loaded.\")\n",
    "        brightness = calculate_brightness(image)\n",
    "        contrast = calculate_contrast(image)\n",
    "        face_present = detect_faces(image)\n",
    "        dominant_color = get_dominant_color(image)\n",
    "        features.append({\n",
    "            \"image_path\": path,\n",
    "            \"brightness\": brightness,\n",
    "            \"contrast\": contrast,\n",
    "            \"face_detected\": face_present,\n",
    "            \"dominant_color\": dominant_color\n",
    "        })\n",
    "    except Exception:\n",
    "        features.append({\n",
    "            \"image_path\": path,\n",
    "            \"brightness\": None,\n",
    "            \"contrast\": None,\n",
    "            \"face_detected\": None,\n",
    "            \"dominant_color\": None\n",
    "        })\n",
    "\n",
    "features_df = pd.DataFrame(features)\n",
    "features_df.head()"
   ]
  },
  {
   "cell_type": "code",
   "execution_count": null,
   "id": "9b68d228",
   "metadata": {},
   "outputs": [],
   "source": [
    "# 💾 Save your features to a CSV file\n",
    "features_df.to_csv(\"image_features_extracted.csv\", index=False)"
   ]
  }
 ],
 "metadata": {},
 "nbformat": 4,
 "nbformat_minor": 5
}
